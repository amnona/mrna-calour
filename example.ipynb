{
 "cells": [
  {
   "cell_type": "code",
   "execution_count": 2,
   "metadata": {},
   "outputs": [],
   "source": [
    "import calour"
   ]
  },
  {
   "cell_type": "markdown",
   "metadata": {},
   "source": [
    "# Load the example dataset file\n",
    "(tsv, rows are genes, columns are samples, first column is gene name, first row is sample name)\n",
    "\n",
    "We cast the results as cls=calour.MRNAExperiment\n",
    "\n",
    "We also use normalize=10000, to do per-sample total sum normalization to 10000 (can provide normalize=None to skip normalization if the data is already normalized)"
   ]
  },
  {
   "cell_type": "code",
   "execution_count": 4,
   "metadata": {},
   "outputs": [],
   "source": [
    "dat=calour.read('./mrna-data.tsv',cls=calour.MRNAExperiment,normalize=10000)"
   ]
  },
  {
   "cell_type": "markdown",
   "metadata": {},
   "source": [
    "# Cluster the features\n",
    "so genes with similar behavior over samples will be located next to each other in the heatmap (optional)"
   ]
  },
  {
   "cell_type": "code",
   "execution_count": 5,
   "metadata": {},
   "outputs": [],
   "source": [
    "dat=dat.cluster_features()"
   ]
  },
  {
   "cell_type": "markdown",
   "metadata": {},
   "source": [
    "# And plot the heatmap\n",
    "Since it is cast as an MRNAExperiment, when clicking on a gene in the heatmap, we will get the information about this gene (using data from https://maayanlab.cloud/Harmonizome/)\n",
    "\n",
    "Double clicking on an entry in the gene info list will open the Harmonizome web page for the gene"
   ]
  },
  {
   "cell_type": "code",
   "execution_count": 9,
   "metadata": {},
   "outputs": [
    {
     "data": {
      "text/plain": [
       "<calour.heatmap.plotgui_qt5.PlotGUI_QT5 at 0x173c39290>"
      ]
     },
     "execution_count": 9,
     "metadata": {},
     "output_type": "execute_result"
    }
   ],
   "source": [
    "dat.plot(gui='qt5',feature_field='_feature_id',yticklabel_kwargs={'rotation':0})"
   ]
  },
  {
   "cell_type": "code",
   "execution_count": null,
   "metadata": {},
   "outputs": [],
   "source": []
  }
 ],
 "metadata": {
  "kernelspec": {
   "display_name": "calour",
   "language": "python",
   "name": "python3"
  },
  "language_info": {
   "codemirror_mode": {
    "name": "ipython",
    "version": 3
   },
   "file_extension": ".py",
   "mimetype": "text/x-python",
   "name": "python",
   "nbconvert_exporter": "python",
   "pygments_lexer": "ipython3",
   "version": "3.11.8"
  }
 },
 "nbformat": 4,
 "nbformat_minor": 2
}
